{
 "cells": [
  {
   "cell_type": "code",
   "execution_count": 1,
   "metadata": {},
   "outputs": [],
   "source": [
    "import tensorflow as tf\n",
    "import numpy as np\n",
    "import scipy.io\n",
    "import scipy.misc\n",
    "import os\n",
    "import time\n",
    "\n",
    "def the_current_time():\n",
    "    print(time.strftime('%Y-%m-%d %H:%M:%S',time.localtime(int(time.time()))))"
   ]
  },
  {
   "cell_type": "code",
   "execution_count": 2,
   "metadata": {},
   "outputs": [
    {
     "name": "stdout",
     "output_type": "stream",
     "text": [
      "2019-05-11 15:07:11\n"
     ]
    }
   ],
   "source": [
    "the_current_time()"
   ]
  },
  {
   "cell_type": "code",
   "execution_count": 3,
   "metadata": {},
   "outputs": [],
   "source": [
    "CONTENT_IMG = 'content.jpg'\n",
    "STYLE_IMG = 'style5.jpg'\n",
    "OUTPUT_DIR = 'output'\n",
    "\n",
    "if not os.path.exists(OUTPUT_DIR):\n",
    "    os.mkdir(OUTPUT_DIR)\n",
    "    \n",
    "IMAGE_W = 800\n",
    "IMAGE_h = 600\n",
    "COLOR_C = 3\n",
    "\n",
    "# 噪音比例\n",
    "NOISE_RATIO = 0.7\n",
    "# 内容损失权重\n",
    "BETA = 5\n",
    "# 风格损失权重\n",
    "ALPHA = 100\n",
    "# 加载预训练模型权重\n",
    "VGG_MODEL = 'imagenet-vgg-verydeep-19.mat'\n",
    "\n",
    "MEAN_VALUES = np.array([123.68,116.779,103.939]).reshape((1,1,1,3))"
   ]
  },
  {
   "cell_type": "code",
   "execution_count": 4,
   "metadata": {},
   "outputs": [],
   "source": [
    "def load_vgg_model(path):\n",
    "    \"\"\"\n",
    "    padding=SAME\n",
    "    VGG19细节\n",
    "    - 00 conv1_1 (3,3,3,64)\n",
    "    - 01 relu\n",
    "    - 02 conv1_2 (3,3,64,64)\n",
    "    - 03 relu\n",
    "    - 04 maxpool\n",
    "    - 05 conv2_1 (3,3,64,128)\n",
    "    \"\"\"\n",
    "    vgg = scipy.io.loadmat(path)\n",
    "    vgg_layers = vgg['layers']\n",
    "    \n",
    "    def _weights(layer, expected_layer_name):\n",
    "        \"\"\"\n",
    "        加载权重\n",
    "        \"\"\"\n",
    "        w = vgg_layers[0][0]\n",
    "    \n",
    "    def _conv2d_relu(prev_layer, layer, layer_name):\n",
    "        \"\"\"\n",
    "        加载权重，赋值给卷积+池化\n",
    "        \"\"\"\n",
    "        pass\n",
    "    \n",
    "    def _avgpool(prev_layer):\n",
    "        return tf.nn.avg_pool(prev_laye, ksize=[1,2,2,1],strides=[1,2,2,1],padding='SAME')"
   ]
  },
  {
   "cell_type": "code",
   "execution_count": null,
   "metadata": {},
   "outputs": [],
   "source": [
    "def content_loss_func(sess, model):\n",
    "    \"\"\"\n",
    "    内容损失函数\n",
    "    \"\"\"\n",
    "    def _content_loss(p, x):\n",
    "        N = p.shape[3]\n",
    "        M = p.shape[1]*p.shape[2]\n",
    "        return "
   ]
  }
 ],
 "metadata": {
  "kernelspec": {
   "display_name": "Python 3",
   "language": "python",
   "name": "python3"
  },
  "language_info": {
   "codemirror_mode": {
    "name": "ipython",
    "version": 3
   },
   "file_extension": ".py",
   "mimetype": "text/x-python",
   "name": "python",
   "nbconvert_exporter": "python",
   "pygments_lexer": "ipython3",
   "version": "3.7.3"
  }
 },
 "nbformat": 4,
 "nbformat_minor": 2
}
