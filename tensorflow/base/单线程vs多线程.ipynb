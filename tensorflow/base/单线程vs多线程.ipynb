{
 "cells": [
  {
   "cell_type": "code",
   "execution_count": 1,
   "metadata": {},
   "outputs": [],
   "source": [
    "import tensorflow as tf\n",
    "import numpy as np\n",
    "import timeit\n",
    "import time\n",
    "from concurrent.futures import ThreadPoolExecutor"
   ]
  },
  {
   "cell_type": "code",
   "execution_count": 2,
   "metadata": {},
   "outputs": [],
   "source": [
    "data = np.random.normal(size=(5,128,128,1))"
   ]
  },
  {
   "cell_type": "code",
   "execution_count": 3,
   "metadata": {},
   "outputs": [
    {
     "name": "stdout",
     "output_type": "stream",
     "text": [
      "WARNING:tensorflow:From C:\\ProgramData\\Anaconda3\\lib\\site-packages\\tensorflow\\python\\framework\\op_def_library.py:263: colocate_with (from tensorflow.python.framework.ops) is deprecated and will be removed in a future version.\n",
      "Instructions for updating:\n",
      "Colocations handled automatically by placer.\n"
     ]
    }
   ],
   "source": [
    "a = tf.placeholder(tf.float32,shape=(None,128,128,1))\n",
    "\n",
    "w = tf.Variable(tf.random_normal((3,3,1,32)))\n",
    "b = tf.Variable(tf.random_normal((32,)))\n",
    "x = tf.nn.conv2d(a, w, strides=(1,1,1,1), padding='VALID')\n",
    "x = tf.nn.relu(tf.nn.bias_add(x,b))\n",
    "x = tf.nn.max_pool(x, (1,2,2,1), strides=(1,2,2,1),padding='VALID')\n",
    "\n",
    "w = tf.Variable(tf.random_normal((3,3,1,32)))\n",
    "b = tf.Variable(tf.random_normal((32,)))\n",
    "x = tf.nn.conv2d(a, w, strides=(1,1,1,1), padding='VALID')\n",
    "x = tf.nn.relu(tf.nn.bias_add(x,b))\n",
    "x = tf.nn.max_pool(x, (1,2,2,1), strides=(1,2,2,1),padding='VALID')"
   ]
  },
  {
   "cell_type": "code",
   "execution_count": 5,
   "metadata": {},
   "outputs": [],
   "source": [
    "init = tf.global_variables_initializer()"
   ]
  },
  {
   "cell_type": "code",
   "execution_count": 8,
   "metadata": {},
   "outputs": [],
   "source": [
    "sess = tf.Session()"
   ]
  },
  {
   "cell_type": "code",
   "execution_count": 9,
   "metadata": {},
   "outputs": [],
   "source": [
    "sess.run(init)"
   ]
  },
  {
   "cell_type": "code",
   "execution_count": 12,
   "metadata": {},
   "outputs": [],
   "source": [
    "_ = sess.run(x, feed_dict={a:data})"
   ]
  },
  {
   "cell_type": "code",
   "execution_count": 4,
   "metadata": {},
   "outputs": [],
   "source": [
    "def test(num=1000,sess=None,auto_close=True):\n",
    "    if sess==None:\n",
    "        config = tf.ConfigProto()  \n",
    "        config.gpu_options.allow_growth=True  \n",
    "        sess = tf.Session(config=config)\n",
    "        sess.run(tf.global_variables_initializer())\n",
    "    cost =[]\n",
    "    for i in range(num):\n",
    "        start = time.time()\n",
    "        _ = sess.run(x, feed_dict={a:data})\n",
    "        end = time.time()\n",
    "        cost.append(end-start)\n",
    "    print('mean cost is {:.4f} s'.format(np.sum(cost)/num))\n",
    "    if auto_close:\n",
    "        sess.close()"
   ]
  },
  {
   "cell_type": "code",
   "execution_count": 5,
   "metadata": {},
   "outputs": [],
   "source": [
    "executor = ThreadPoolExecutor(5)"
   ]
  },
  {
   "cell_type": "code",
   "execution_count": 8,
   "metadata": {},
   "outputs": [
    {
     "data": {
      "text/plain": [
       "<Future at 0x22ab958bcf8 state=running>"
      ]
     },
     "execution_count": 8,
     "metadata": {},
     "output_type": "execute_result"
    }
   ],
   "source": [
    "executor.submit(test)"
   ]
  },
  {
   "cell_type": "code",
   "execution_count": 11,
   "metadata": {},
   "outputs": [],
   "source": [
    "task1 = executor.submit(test)\n",
    "task2 = executor.submit(test)\n",
    "task3 = executor.submit(test)"
   ]
  },
  {
   "cell_type": "code",
   "execution_count": 12,
   "metadata": {},
   "outputs": [
    {
     "data": {
      "text/plain": [
       "True"
      ]
     },
     "execution_count": 12,
     "metadata": {},
     "output_type": "execute_result"
    }
   ],
   "source": [
    "task1.done()"
   ]
  },
  {
   "cell_type": "code",
   "execution_count": 10,
   "metadata": {},
   "outputs": [
    {
     "name": "stdout",
     "output_type": "stream",
     "text": [
      "mean cost is 0.0053 s\n"
     ]
    }
   ],
   "source": [
    "test()"
   ]
  },
  {
   "cell_type": "code",
   "execution_count": null,
   "metadata": {},
   "outputs": [],
   "source": [
    "timeit.repeat()"
   ]
  }
 ],
 "metadata": {
  "kernelspec": {
   "display_name": "Python 3",
   "language": "python",
   "name": "python3"
  },
  "language_info": {
   "codemirror_mode": {
    "name": "ipython",
    "version": 3
   },
   "file_extension": ".py",
   "mimetype": "text/x-python",
   "name": "python",
   "nbconvert_exporter": "python",
   "pygments_lexer": "ipython3",
   "version": "3.7.3"
  }
 },
 "nbformat": 4,
 "nbformat_minor": 2
}
