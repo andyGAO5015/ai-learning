{
  "cells": [
    {
      "metadata": {
        "trusted": true,
        "_uuid": "a1068bba1901c46565ba1895b33976c84129e442"
      },
      "cell_type": "code",
      "source": "import tensorflow as tf\nfrom sklearn.preprocessing import OneHotEncoder\nimport numpy as np",
      "execution_count": 1,
      "outputs": []
    },
    {
      "metadata": {
        "trusted": true,
        "_uuid": "0e9dccdf91c39e2cda49c19a79eed424922676ff"
      },
      "cell_type": "code",
      "source": "(x_train, y_train), (x_test, y_test) = tf.keras.datasets.mnist.load_data()",
      "execution_count": 2,
      "outputs": [
        {
          "output_type": "stream",
          "text": "Downloading data from https://storage.googleapis.com/tensorflow/tf-keras-datasets/mnist.npz\n11493376/11490434 [==============================] - 0s 0us/step\n",
          "name": "stdout"
        }
      ]
    },
    {
      "metadata": {
        "trusted": true,
        "_uuid": "581737b0eceba2433586d3b63e6a731a13f2164c"
      },
      "cell_type": "code",
      "source": "# 处理数据\nx_train = x_train.reshape([-1,28,28,1]).astype(np.float32)\nx_test = x_test.reshape([-1,28,28,1]).astype(np.float32)\n\ny_train = y_train.reshape([-1,1])\ny_test = y_test.reshape([-1,1])\n\none_hot = OneHotEncoder(categories='auto')\ny_train = one_hot.fit_transform(y_train).toarray()\ny_test = one_hot.transform(y_test).toarray()",
      "execution_count": 3,
      "outputs": []
    },
    {
      "metadata": {
        "trusted": true,
        "_uuid": "436433cea6483a1860796aa0c996aba01a61aaa5"
      },
      "cell_type": "code",
      "source": "INPUT_WIDTH=28\nINPUT_HEIGHT=28\nINPUT_CHANNEL=1\nOUTPUT_NODE=10\nBATCH_SIZE=50",
      "execution_count": 4,
      "outputs": []
    },
    {
      "metadata": {
        "_uuid": "c4cb5b4ec0b909457ec1bf51e084454bad95072e"
      },
      "cell_type": "markdown",
      "source": "1. 定义需要的函数"
    },
    {
      "metadata": {
        "trusted": true,
        "_uuid": "ae53bb10904759dc508db973d234954210d1dcd7"
      },
      "cell_type": "code",
      "source": "def weight_variable(shape):\n    '''\n    权重\n    '''\n    initial = tf.truncated_normal(shape, stddev=0.1)\n    return tf.Variable(initial)\n\n\ndef bias_variable(shape):\n    '''\n    偏置\n    '''\n    initial = tf.constant(0.1, shape=shape)\n    return tf.Variable(initial)\n\n\ndef conv2d(x, W):\n    '''\n    2d卷积层\n    '''\n    return tf.nn.conv2d(x, W, strides=[1, 1, 1, 1], padding='SAME')\n\n\ndef max_pool_2x2(x):\n    '''\n    池化层\n    '''\n    return tf.nn.max_pool(x, ksize=[1, 2, 2, 1], strides=[1, 2, 2, 1], padding='SAME')\n\ndef get_batch(data, step, batch_size):\n    '''\n    辅助函数，用于获得批量数据\n    '''\n    result = []\n    for elem in data:\n        size = len(elem)\n        start = (step*batch_size)%size\n        end = (step*batch_size+batch_size)%size\n        result.append(elem[start:end])\n    return result",
      "execution_count": 5,
      "outputs": []
    },
    {
      "metadata": {
        "_uuid": "94c2e8e40fa640c15494676339a0f46a201e115b"
      },
      "cell_type": "markdown",
      "source": "2. 定义网络"
    },
    {
      "metadata": {
        "trusted": true,
        "_uuid": "1f990df69de228bf53b0dcb74b2e48d2fafd5d29"
      },
      "cell_type": "code",
      "source": "# 定义输入输出\nx = tf.placeholder(tf.float32, shape=[None, INPUT_WIDTH, INPUT_HEIGHT, INPUT_CHANNEL])\ny_ = tf.placeholder(tf.float32, shape=[None, OUTPUT_NODE])\n\n# 定义第一层网络\nW_conv1 = weight_variable([5, 5, 1, 32])\nb_conv1 = bias_variable([32])\nh_conv1 = tf.nn.relu(conv2d(x, W_conv1) + b_conv1)\nh_pool1 = max_pool_2x2(h_conv1)\n\n# 定义第二层卷积网络\nW_conv2 = weight_variable([5, 5, 32, 64])\nb_conv2 = bias_variable([64])\nh_conv2 = tf.nn.relu(conv2d(h_pool1, W_conv2) + b_conv2)\nh_pool2 = max_pool_2x2(h_conv2)\n\n# 两层卷积层之后是全连接层\nW_fc1 = weight_variable([7 * 7 * 64, 1024])\nb_fc1 = bias_variable([1024])\nh_pool2_flat = tf.reshape(h_pool2, [-1, 7*7*64])\nh_fc1 = tf.nn.relu(tf.matmul(h_pool2_flat, W_fc1) + b_fc1)\n\n# 使用dropout，keep_prob是一个占位符，训练时为0.5，测试时为1.0\nkeep_prob = tf.placeholder(tf.float32)\nh_fc1_drop = tf.nn.dropout(h_fc1, keep_prob)\n\n# 吧1024维转成10维\nW_fc2 = weight_variable([1024, 10])\nb_fc2 = bias_variable([10])\ny_conv = tf.matmul(h_fc1_drop, W_fc2) + b_fc2\n\n# 定义交叉熵损失函数\ncross_entropy = tf.reduce_mean(tf.nn.softmax_cross_entropy_with_logits(logits=y_conv, labels=y_))\n# 定义优化器\ntrain_step = tf.train.AdamOptimizer(1e-4).minimize(cross_entropy)\n\n# 定义测试准确率\ncorrent_prediction = tf.equal(tf.argmax(y_conv, 1), tf.argmax(y_, 1))\naccuracy = tf.reduce_mean(tf.cast(corrent_prediction, tf.float32))",
      "execution_count": 6,
      "outputs": [
        {
          "output_type": "stream",
          "text": "WARNING:tensorflow:From /opt/conda/lib/python3.6/site-packages/tensorflow/python/framework/op_def_library.py:263: colocate_with (from tensorflow.python.framework.ops) is deprecated and will be removed in a future version.\nInstructions for updating:\nColocations handled automatically by placer.\nWARNING:tensorflow:From <ipython-input-6-45a65c685853>:25: calling dropout (from tensorflow.python.ops.nn_ops) with keep_prob is deprecated and will be removed in a future version.\nInstructions for updating:\nPlease use `rate` instead of `keep_prob`. Rate should be set to `rate = 1 - keep_prob`.\nWARNING:tensorflow:From <ipython-input-6-45a65c685853>:33: softmax_cross_entropy_with_logits (from tensorflow.python.ops.nn_ops) is deprecated and will be removed in a future version.\nInstructions for updating:\n\nFuture major versions of TensorFlow will allow gradients to flow\ninto the labels input on backprop by default.\n\nSee `tf.nn.softmax_cross_entropy_with_logits_v2`.\n\n",
          "name": "stdout"
        }
      ]
    },
    {
      "metadata": {
        "trusted": true,
        "_uuid": "f17b24c5617db7367c5d75337bc2458a02e70b6d"
      },
      "cell_type": "code",
      "source": "sess = tf.InteractiveSession()",
      "execution_count": 7,
      "outputs": []
    },
    {
      "metadata": {
        "trusted": true,
        "_uuid": "5fd63128c46a03783b23dbb6b50ed5f90f2c9b2c"
      },
      "cell_type": "code",
      "source": "sess.run(tf.global_variables_initializer())",
      "execution_count": 8,
      "outputs": []
    },
    {
      "metadata": {
        "trusted": true,
        "_uuid": "230aaaaca91ba624492e17a93094cafaf176cf56"
      },
      "cell_type": "code",
      "source": "for step in range(20000):\n    batch_train_x, batch_train_y = get_batch([x_train, y_train], step, BATCH_SIZE)\n    train_feed={x:batch_train_x, y_:batch_train_y, keep_prob:0.5}\n    test_feed={x:x_test, y_:y_test, keep_prob:1.0}\n    # 每100步报告一次在测试集上的准确率\n    if step % 100 == 0:\n        train_accuracy = accuracy.eval(feed_dict=train_feed)\n        test_accuracy = accuracy.eval(feed_dict=test_feed)\n        print('after {} step, train accuracy is {}, test accuracy is {}'.format(step, train_accuracy, test_accuracy))\n#         print('after {} step, train accuracy is {}, test accuracy is '.format(step, train_accuracy))\n    sess.run(train_step, feed_dict=train_feed)\n    \n# 训练结束时进行报告\ntrain_accuracy = accuracy.eval(feed_dict=train_feed)\ntest_accuracy = accuracy.eval(feed_dict=test_feed)\nprint('after {} step, train accuracy is {}, test accuracy is {}'.format(step, train_accuracy, test_accuracy))",
      "execution_count": null,
      "outputs": []
    },
    {
      "metadata": {
        "trusted": true,
        "_uuid": "ec9c7a76b013fca0b1d1ef5f26766a67360ae2e9"
      },
      "cell_type": "code",
      "source": "",
      "execution_count": null,
      "outputs": []
    }
  ],
  "metadata": {
    "kernelspec": {
      "display_name": "Python 3",
      "language": "python",
      "name": "python3"
    },
    "language_info": {
      "name": "python",
      "version": "3.6.6",
      "mimetype": "text/x-python",
      "codemirror_mode": {
        "name": "ipython",
        "version": 3
      },
      "pygments_lexer": "ipython3",
      "nbconvert_exporter": "python",
      "file_extension": ".py"
    }
  },
  "nbformat": 4,
  "nbformat_minor": 1
}