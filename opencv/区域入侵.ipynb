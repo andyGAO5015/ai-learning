{
 "cells": [
  {
   "cell_type": "code",
   "execution_count": 1,
   "metadata": {},
   "outputs": [],
   "source": [
    "import cv2\n",
    "import numpy as np\n",
    "\n",
    "\n",
    "def get_mask(points, shape):\n",
    "    \"\"\"\n",
    "    返回遮罩，在不规则多边形区域中为白色，外面为黑色\n",
    "    :param points:\n",
    "    :param shape:\n",
    "    :return:\n",
    "    \"\"\"\n",
    "    mask = np.zeros(shape, np.uint8)\n",
    "    pts = points.reshape((-1, 1, 2))\n",
    "    cv2.fillPoly(mask, [pts], (255, 255, 255))\n",
    "    return mask\n",
    "\n",
    "\n",
    "def get_roi(img, points):\n",
    "    \"\"\"\n",
    "    返回roi区域\n",
    "    :param img:\n",
    "    :param points:\n",
    "    :return:\n",
    "    \"\"\"\n",
    "    mask = get_mask(points, img.shape)\n",
    "    roi = cv2.bitwise_and(img, mask)\n",
    "    return roi\n",
    "\n",
    "\n",
    "def callback(*args, **kargs):\n",
    "    print('enter callback, args is {}, kargs is{}'.format(args, kargs))\n",
    "\n",
    "    \n",
    "def difference(img1, img2, threshold, callback):\n",
    "    \"\"\"\n",
    "    差分法，当两帧相差大于threshold阈值时调用回调函数callback\n",
    "    :param img1:\n",
    "    :param img2:\n",
    "    :param threshold:\n",
    "    :param callback:\n",
    "    :return:\n",
    "    \"\"\"\n",
    "    diff = cv2.absdiff(img1, img2)\n",
    "    value = np.sum(diff)\n",
    "    if value >= threshold:\n",
    "        callback(value)\n",
    "    return diff"
   ]
  },
  {
   "cell_type": "code",
   "execution_count": 2,
   "metadata": {},
   "outputs": [],
   "source": [
    "fps = 30\n",
    "exit = 27"
   ]
  },
  {
   "cell_type": "code",
   "execution_count": 9,
   "metadata": {},
   "outputs": [],
   "source": [
    "# roi\n",
    "cap = cv2.VideoCapture(0)\n",
    "ret, image = cap.read()\n",
    "shape = image.shape\n",
    "points = np.array([[10, 10], [50, 500], [400, 400], [500, 10]], np.int32)\n",
    "mask = get_mask(points, shape)\n",
    "while ret:\n",
    "    roi = cv2.bitwise_and(image, mask)\n",
    "    #     roi = get_roi(image, points)\n",
    "    cv2.imshow('roi', roi)\n",
    "    ret, image = cap.read()\n",
    "    if cv2.waitKey(fps) & 0xFF == exit:\n",
    "        break\n",
    "cap.release()\n",
    "cv2.destroyAllWindows()"
   ]
  },
  {
   "cell_type": "code",
   "execution_count": 6,
   "metadata": {},
   "outputs": [
    {
     "name": "stdout",
     "output_type": "stream",
     "text": [
      "enter callback, args is (10452244,), kargs is{}\n",
      "enter callback, args is (8021165,), kargs is{}\n"
     ]
    }
   ],
   "source": [
    "# 差分法\n",
    "cap = cv2.VideoCapture(0)\n",
    "ret, image = cap.read()\n",
    "shape = image.shape\n",
    "points = np.array([[10, 10], [50, 500], [400, 400], [500, 10]], np.int32)\n",
    "mask = get_mask(points, shape)\n",
    "roi1 = cv2.bitwise_and(image, mask)\n",
    "while ret:\n",
    "    ret, image = cap.read()\n",
    "    roi2 = cv2.bitwise_and(image, mask)\n",
    "    #     roi = get_roi(image, points)\n",
    "    diff = difference(roi1, roi2, 8002850, callback)\n",
    "    cv2.imshow('name', diff)\n",
    "    roi1=roi2\n",
    "    \n",
    "    if cv2.waitKey(fps) & 0xFF == exit:\n",
    "        break\n",
    "cap.release()\n",
    "cv2.destroyAllWindows()"
   ]
  },
  {
   "cell_type": "code",
   "execution_count": 8,
   "metadata": {},
   "outputs": [],
   "source": [
    "# 高斯混合模型\n",
    "cap = cv2.VideoCapture(0)\n",
    "ret, image = cap.read()\n",
    "shape = image.shape\n",
    "points = np.array([[10, 10], [50, 500], [400, 400], [500, 10]], np.int32)\n",
    "mask = get_mask(points, shape)\n",
    "fgbg = cv2.createBackgroundSubtractorMOG2()\n",
    "kernel = cv2.getStructuringElement(cv2.MORPH_ELLIPSE,(3,3))\n",
    "while ret:\n",
    "    ret, image = cap.read()\n",
    "    roi = cv2.bitwise_and(image, mask)\n",
    "    fgmask = fgbg.apply(roi)\n",
    "    fgmask = cv2.morphologyEx(fgmask, cv2.MORPH_OPEN, kernel)\n",
    "    cv2.imshow('gaussian', fgmask)\n",
    "    \n",
    "    if cv2.waitKey(fps) & 0xFF == exit:\n",
    "        break\n",
    "cap.release()\n",
    "cv2.destroyAllWindows()"
   ]
  },
  {
   "cell_type": "code",
   "execution_count": null,
   "metadata": {},
   "outputs": [],
   "source": [
    "# 光流估计，需要先做角点检测，再传入光流估计中\n"
   ]
  },
  {
   "cell_type": "code",
   "execution_count": 18,
   "metadata": {},
   "outputs": [],
   "source": [
    "cap.release()\n",
    "cv2.destroyAllWindows()"
   ]
  },
  {
   "cell_type": "code",
   "execution_count": null,
   "metadata": {},
   "outputs": [],
   "source": []
  }
 ],
 "metadata": {
  "kernelspec": {
   "display_name": "Python 3",
   "language": "python",
   "name": "python3"
  },
  "language_info": {
   "codemirror_mode": {
    "name": "ipython",
    "version": 3
   },
   "file_extension": ".py",
   "mimetype": "text/x-python",
   "name": "python",
   "nbconvert_exporter": "python",
   "pygments_lexer": "ipython3",
   "version": "3.7.3"
  }
 },
 "nbformat": 4,
 "nbformat_minor": 2
}
